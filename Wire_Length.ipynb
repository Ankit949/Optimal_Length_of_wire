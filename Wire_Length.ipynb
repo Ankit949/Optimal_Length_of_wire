{
  "nbformat": 4,
  "nbformat_minor": 0,
  "metadata": {
    "colab": {
      "name": "Untitled2.ipynb",
      "provenance": [],
      "collapsed_sections": []
    },
    "kernelspec": {
      "name": "python3",
      "display_name": "Python 3"
    }
  },
  "cells": [
    {
      "cell_type": "code",
      "metadata": {
        "id": "-vYd7oFDhiGN"
      },
      "source": [
        "import pandas as pd\n",
        "import numpy as np"
      ],
      "execution_count": null,
      "outputs": []
    },
    {
      "cell_type": "code",
      "metadata": {
        "id": "4hhtW-Uwh3GH",
        "outputId": "b49c28db-35d2-42e7-d5f6-09210c962d37",
        "colab": {
          "base_uri": "https://localhost:8080/",
          "height": 419
        }
      },
      "source": [
        "wire_data=pd.read_csv(\"res.kaggle.csv\")\n",
        "wire_data"
      ],
      "execution_count": null,
      "outputs": [
        {
          "output_type": "execute_result",
          "data": {
            "text/html": [
              "<div>\n",
              "<style scoped>\n",
              "    .dataframe tbody tr th:only-of-type {\n",
              "        vertical-align: middle;\n",
              "    }\n",
              "\n",
              "    .dataframe tbody tr th {\n",
              "        vertical-align: top;\n",
              "    }\n",
              "\n",
              "    .dataframe thead th {\n",
              "        text-align: right;\n",
              "    }\n",
              "</style>\n",
              "<table border=\"1\" class=\"dataframe\">\n",
              "  <thead>\n",
              "    <tr style=\"text-align: right;\">\n",
              "      <th></th>\n",
              "      <th>Id</th>\n",
              "      <th>Wire-Length</th>\n",
              "      <th>Wire-Width</th>\n",
              "      <th>Temperature</th>\n",
              "      <th>Resistance</th>\n",
              "    </tr>\n",
              "  </thead>\n",
              "  <tbody>\n",
              "    <tr>\n",
              "      <th>0</th>\n",
              "      <td>1</td>\n",
              "      <td>0.000004</td>\n",
              "      <td>1.242818e-07</td>\n",
              "      <td>49.068092</td>\n",
              "      <td>49.109064</td>\n",
              "    </tr>\n",
              "    <tr>\n",
              "      <th>1</th>\n",
              "      <td>2</td>\n",
              "      <td>0.000006</td>\n",
              "      <td>1.076858e-07</td>\n",
              "      <td>43.658935</td>\n",
              "      <td>91.586673</td>\n",
              "    </tr>\n",
              "    <tr>\n",
              "      <th>2</th>\n",
              "      <td>3</td>\n",
              "      <td>0.000006</td>\n",
              "      <td>5.969293e-08</td>\n",
              "      <td>35.352385</td>\n",
              "      <td>163.889784</td>\n",
              "    </tr>\n",
              "    <tr>\n",
              "      <th>3</th>\n",
              "      <td>4</td>\n",
              "      <td>0.000007</td>\n",
              "      <td>1.201065e-07</td>\n",
              "      <td>59.233521</td>\n",
              "      <td>93.503835</td>\n",
              "    </tr>\n",
              "    <tr>\n",
              "      <th>4</th>\n",
              "      <td>5</td>\n",
              "      <td>0.000005</td>\n",
              "      <td>1.011103e-07</td>\n",
              "      <td>36.388193</td>\n",
              "      <td>72.923350</td>\n",
              "    </tr>\n",
              "    <tr>\n",
              "      <th>...</th>\n",
              "      <td>...</td>\n",
              "      <td>...</td>\n",
              "      <td>...</td>\n",
              "      <td>...</td>\n",
              "      <td>...</td>\n",
              "    </tr>\n",
              "    <tr>\n",
              "      <th>9995</th>\n",
              "      <td>9996</td>\n",
              "      <td>0.000003</td>\n",
              "      <td>7.826357e-08</td>\n",
              "      <td>50.978789</td>\n",
              "      <td>67.155087</td>\n",
              "    </tr>\n",
              "    <tr>\n",
              "      <th>9996</th>\n",
              "      <td>9997</td>\n",
              "      <td>0.000005</td>\n",
              "      <td>1.090780e-07</td>\n",
              "      <td>64.802872</td>\n",
              "      <td>68.277575</td>\n",
              "    </tr>\n",
              "    <tr>\n",
              "      <th>9997</th>\n",
              "      <td>9998</td>\n",
              "      <td>0.000004</td>\n",
              "      <td>6.590397e-08</td>\n",
              "      <td>60.669010</td>\n",
              "      <td>97.044900</td>\n",
              "    </tr>\n",
              "    <tr>\n",
              "      <th>9998</th>\n",
              "      <td>9999</td>\n",
              "      <td>0.000006</td>\n",
              "      <td>1.041744e-07</td>\n",
              "      <td>53.174923</td>\n",
              "      <td>90.972859</td>\n",
              "    </tr>\n",
              "    <tr>\n",
              "      <th>9999</th>\n",
              "      <td>10000</td>\n",
              "      <td>0.000006</td>\n",
              "      <td>1.142393e-07</td>\n",
              "      <td>68.297064</td>\n",
              "      <td>85.896432</td>\n",
              "    </tr>\n",
              "  </tbody>\n",
              "</table>\n",
              "<p>10000 rows × 5 columns</p>\n",
              "</div>"
            ],
            "text/plain": [
              "         Id  Wire-Length    Wire-Width  Temperature  Resistance\n",
              "0         1     0.000004  1.242818e-07    49.068092   49.109064\n",
              "1         2     0.000006  1.076858e-07    43.658935   91.586673\n",
              "2         3     0.000006  5.969293e-08    35.352385  163.889784\n",
              "3         4     0.000007  1.201065e-07    59.233521   93.503835\n",
              "4         5     0.000005  1.011103e-07    36.388193   72.923350\n",
              "...     ...          ...           ...          ...         ...\n",
              "9995   9996     0.000003  7.826357e-08    50.978789   67.155087\n",
              "9996   9997     0.000005  1.090780e-07    64.802872   68.277575\n",
              "9997   9998     0.000004  6.590397e-08    60.669010   97.044900\n",
              "9998   9999     0.000006  1.041744e-07    53.174923   90.972859\n",
              "9999  10000     0.000006  1.142393e-07    68.297064   85.896432\n",
              "\n",
              "[10000 rows x 5 columns]"
            ]
          },
          "metadata": {
            "tags": []
          },
          "execution_count": 6
        }
      ]
    },
    {
      "cell_type": "code",
      "metadata": {
        "id": "OPA0cJ5IivCk"
      },
      "source": [
        "from sklearn.preprocessing import MinMaxScaler"
      ],
      "execution_count": null,
      "outputs": []
    },
    {
      "cell_type": "code",
      "metadata": {
        "id": "2Oo5hZxeiwqR",
        "outputId": "9ccb0134-6c45-415c-aaaa-725ee0c2c5f1",
        "colab": {
          "base_uri": "https://localhost:8080/",
          "height": 238
        }
      },
      "source": [
        "scaler=MinMaxScaler(feature_range=(0,100))\n",
        "scaled_feature=scaler.fit_transform(wire_data)\n",
        "scaled_feature"
      ],
      "execution_count": null,
      "outputs": [
        {
          "output_type": "execute_result",
          "data": {
            "text/plain": [
              "array([[0.00000000e+00, 3.74471644e+01, 6.60764876e+01, 4.53143548e+01,\n",
              "        5.70042332e+00],\n",
              "       [1.00010001e-02, 6.02366570e+01, 5.55606920e+01, 3.96746436e+01,\n",
              "        1.48631814e+01],\n",
              "       [2.00020002e-02, 6.43868711e+01, 2.51507957e+01, 3.10140447e+01,\n",
              "        3.04595372e+01],\n",
              "       ...,\n",
              "       [9.99799980e+01, 3.15640000e+01, 2.90863259e+01, 5.74097380e+01,\n",
              "        1.60405643e+01],\n",
              "       [9.99899990e+01, 6.12909855e+01, 5.33357994e+01, 4.95962310e+01,\n",
              "        1.47307767e+01],\n",
              "       [1.00000000e+02, 5.82926735e+01, 5.97132157e+01, 6.53629212e+01,\n",
              "        1.36357512e+01]])"
            ]
          },
          "metadata": {
            "tags": []
          },
          "execution_count": 8
        }
      ]
    },
    {
      "cell_type": "code",
      "metadata": {
        "id": "wknqW-5zi2QK",
        "outputId": "d2c0fa50-1bcc-4430-96b8-f8e7ef176969",
        "colab": {
          "base_uri": "https://localhost:8080/",
          "height": 419
        }
      },
      "source": [
        "wire1=pd.DataFrame(scaled_feature)\n",
        "wire1"
      ],
      "execution_count": null,
      "outputs": [
        {
          "output_type": "execute_result",
          "data": {
            "text/html": [
              "<div>\n",
              "<style scoped>\n",
              "    .dataframe tbody tr th:only-of-type {\n",
              "        vertical-align: middle;\n",
              "    }\n",
              "\n",
              "    .dataframe tbody tr th {\n",
              "        vertical-align: top;\n",
              "    }\n",
              "\n",
              "    .dataframe thead th {\n",
              "        text-align: right;\n",
              "    }\n",
              "</style>\n",
              "<table border=\"1\" class=\"dataframe\">\n",
              "  <thead>\n",
              "    <tr style=\"text-align: right;\">\n",
              "      <th></th>\n",
              "      <th>0</th>\n",
              "      <th>1</th>\n",
              "      <th>2</th>\n",
              "      <th>3</th>\n",
              "      <th>4</th>\n",
              "    </tr>\n",
              "  </thead>\n",
              "  <tbody>\n",
              "    <tr>\n",
              "      <th>0</th>\n",
              "      <td>0.000000</td>\n",
              "      <td>37.447164</td>\n",
              "      <td>66.076488</td>\n",
              "      <td>45.314355</td>\n",
              "      <td>5.700423</td>\n",
              "    </tr>\n",
              "    <tr>\n",
              "      <th>1</th>\n",
              "      <td>0.010001</td>\n",
              "      <td>60.236657</td>\n",
              "      <td>55.560692</td>\n",
              "      <td>39.674644</td>\n",
              "      <td>14.863181</td>\n",
              "    </tr>\n",
              "    <tr>\n",
              "      <th>2</th>\n",
              "      <td>0.020002</td>\n",
              "      <td>64.386871</td>\n",
              "      <td>25.150796</td>\n",
              "      <td>31.014045</td>\n",
              "      <td>30.459537</td>\n",
              "    </tr>\n",
              "    <tr>\n",
              "      <th>3</th>\n",
              "      <td>0.030003</td>\n",
              "      <td>77.250820</td>\n",
              "      <td>63.430928</td>\n",
              "      <td>55.913064</td>\n",
              "      <td>15.276728</td>\n",
              "    </tr>\n",
              "    <tr>\n",
              "      <th>4</th>\n",
              "      <td>0.040004</td>\n",
              "      <td>53.972389</td>\n",
              "      <td>51.394242</td>\n",
              "      <td>32.094002</td>\n",
              "      <td>10.837354</td>\n",
              "    </tr>\n",
              "    <tr>\n",
              "      <th>...</th>\n",
              "      <td>...</td>\n",
              "      <td>...</td>\n",
              "      <td>...</td>\n",
              "      <td>...</td>\n",
              "      <td>...</td>\n",
              "    </tr>\n",
              "    <tr>\n",
              "      <th>9995</th>\n",
              "      <td>99.959996</td>\n",
              "      <td>24.973082</td>\n",
              "      <td>36.917789</td>\n",
              "      <td>47.306492</td>\n",
              "      <td>9.593094</td>\n",
              "    </tr>\n",
              "    <tr>\n",
              "      <th>9996</th>\n",
              "      <td>99.969997</td>\n",
              "      <td>42.665700</td>\n",
              "      <td>56.442842</td>\n",
              "      <td>61.719796</td>\n",
              "      <td>9.835224</td>\n",
              "    </tr>\n",
              "    <tr>\n",
              "      <th>9997</th>\n",
              "      <td>99.979998</td>\n",
              "      <td>31.564000</td>\n",
              "      <td>29.086326</td>\n",
              "      <td>57.409738</td>\n",
              "      <td>16.040564</td>\n",
              "    </tr>\n",
              "    <tr>\n",
              "      <th>9998</th>\n",
              "      <td>99.989999</td>\n",
              "      <td>61.290985</td>\n",
              "      <td>53.335799</td>\n",
              "      <td>49.596231</td>\n",
              "      <td>14.730777</td>\n",
              "    </tr>\n",
              "    <tr>\n",
              "      <th>9999</th>\n",
              "      <td>100.000000</td>\n",
              "      <td>58.292674</td>\n",
              "      <td>59.713216</td>\n",
              "      <td>65.362921</td>\n",
              "      <td>13.635751</td>\n",
              "    </tr>\n",
              "  </tbody>\n",
              "</table>\n",
              "<p>10000 rows × 5 columns</p>\n",
              "</div>"
            ],
            "text/plain": [
              "               0          1          2          3          4\n",
              "0       0.000000  37.447164  66.076488  45.314355   5.700423\n",
              "1       0.010001  60.236657  55.560692  39.674644  14.863181\n",
              "2       0.020002  64.386871  25.150796  31.014045  30.459537\n",
              "3       0.030003  77.250820  63.430928  55.913064  15.276728\n",
              "4       0.040004  53.972389  51.394242  32.094002  10.837354\n",
              "...          ...        ...        ...        ...        ...\n",
              "9995   99.959996  24.973082  36.917789  47.306492   9.593094\n",
              "9996   99.969997  42.665700  56.442842  61.719796   9.835224\n",
              "9997   99.979998  31.564000  29.086326  57.409738  16.040564\n",
              "9998   99.989999  61.290985  53.335799  49.596231  14.730777\n",
              "9999  100.000000  58.292674  59.713216  65.362921  13.635751\n",
              "\n",
              "[10000 rows x 5 columns]"
            ]
          },
          "metadata": {
            "tags": []
          },
          "execution_count": 9
        }
      ]
    },
    {
      "cell_type": "code",
      "metadata": {
        "id": "30qfc_Wli_ZL",
        "outputId": "5ee61ddb-6aed-45f3-80cf-0445323c0b7b",
        "colab": {
          "base_uri": "https://localhost:8080/",
          "height": 136
        }
      },
      "source": [
        "from sklearn.preprocessing import StandardScaler\n",
        "scaler1=StandardScaler()\n",
        "scaled1_feature=scaler1.fit_transform(wire_data)\n",
        "scaled1_feature"
      ],
      "execution_count": null,
      "outputs": [
        {
          "output_type": "execute_result",
          "data": {
            "text/plain": [
              "array([[-1.73187761, -0.78909457,  1.21873572, -0.0934469 , -1.27205713],\n",
              "       [-1.7315312 ,  0.90739739,  0.39067384, -0.52174009,  0.27048227],\n",
              "       [-1.73118479,  1.21634701, -2.00394058, -1.17944675,  2.89611018],\n",
              "       ...,\n",
              "       [ 1.73118479, -1.2270482 , -1.69403892,  0.82510552,  0.46869329],\n",
              "       [ 1.7315312 ,  0.98588356,  0.21547562,  0.23172906,  0.24819211],\n",
              "       [ 1.73187761,  0.76268367,  0.71766257,  1.42908933,  0.06384585]])"
            ]
          },
          "metadata": {
            "tags": []
          },
          "execution_count": 10
        }
      ]
    },
    {
      "cell_type": "code",
      "metadata": {
        "id": "LLeqN1L7jBxr",
        "outputId": "7eb2cdd3-1889-4848-900a-0aaf9789c82b",
        "colab": {
          "base_uri": "https://localhost:8080/",
          "height": 419
        }
      },
      "source": [
        "wire2=pd.DataFrame(scaled1_feature)\n",
        "wire2"
      ],
      "execution_count": null,
      "outputs": [
        {
          "output_type": "execute_result",
          "data": {
            "text/html": [
              "<div>\n",
              "<style scoped>\n",
              "    .dataframe tbody tr th:only-of-type {\n",
              "        vertical-align: middle;\n",
              "    }\n",
              "\n",
              "    .dataframe tbody tr th {\n",
              "        vertical-align: top;\n",
              "    }\n",
              "\n",
              "    .dataframe thead th {\n",
              "        text-align: right;\n",
              "    }\n",
              "</style>\n",
              "<table border=\"1\" class=\"dataframe\">\n",
              "  <thead>\n",
              "    <tr style=\"text-align: right;\">\n",
              "      <th></th>\n",
              "      <th>0</th>\n",
              "      <th>1</th>\n",
              "      <th>2</th>\n",
              "      <th>3</th>\n",
              "      <th>4</th>\n",
              "    </tr>\n",
              "  </thead>\n",
              "  <tbody>\n",
              "    <tr>\n",
              "      <th>0</th>\n",
              "      <td>-1.731878</td>\n",
              "      <td>-0.789095</td>\n",
              "      <td>1.218736</td>\n",
              "      <td>-0.093447</td>\n",
              "      <td>-1.272057</td>\n",
              "    </tr>\n",
              "    <tr>\n",
              "      <th>1</th>\n",
              "      <td>-1.731531</td>\n",
              "      <td>0.907397</td>\n",
              "      <td>0.390674</td>\n",
              "      <td>-0.521740</td>\n",
              "      <td>0.270482</td>\n",
              "    </tr>\n",
              "    <tr>\n",
              "      <th>2</th>\n",
              "      <td>-1.731185</td>\n",
              "      <td>1.216347</td>\n",
              "      <td>-2.003941</td>\n",
              "      <td>-1.179447</td>\n",
              "      <td>2.896110</td>\n",
              "    </tr>\n",
              "    <tr>\n",
              "      <th>3</th>\n",
              "      <td>-1.730838</td>\n",
              "      <td>2.173963</td>\n",
              "      <td>1.010412</td>\n",
              "      <td>0.711445</td>\n",
              "      <td>0.340102</td>\n",
              "    </tr>\n",
              "    <tr>\n",
              "      <th>4</th>\n",
              "      <td>-1.730492</td>\n",
              "      <td>0.441074</td>\n",
              "      <td>0.062589</td>\n",
              "      <td>-1.097432</td>\n",
              "      <td>-0.407261</td>\n",
              "    </tr>\n",
              "    <tr>\n",
              "      <th>...</th>\n",
              "      <td>...</td>\n",
              "      <td>...</td>\n",
              "      <td>...</td>\n",
              "      <td>...</td>\n",
              "      <td>...</td>\n",
              "    </tr>\n",
              "    <tr>\n",
              "      <th>9995</th>\n",
              "      <td>1.730492</td>\n",
              "      <td>-1.717688</td>\n",
              "      <td>-1.077354</td>\n",
              "      <td>0.057841</td>\n",
              "      <td>-0.616731</td>\n",
              "    </tr>\n",
              "    <tr>\n",
              "      <th>9996</th>\n",
              "      <td>1.730838</td>\n",
              "      <td>-0.400617</td>\n",
              "      <td>0.460138</td>\n",
              "      <td>1.152422</td>\n",
              "      <td>-0.575968</td>\n",
              "    </tr>\n",
              "    <tr>\n",
              "      <th>9997</th>\n",
              "      <td>1.731185</td>\n",
              "      <td>-1.227048</td>\n",
              "      <td>-1.694039</td>\n",
              "      <td>0.825106</td>\n",
              "      <td>0.468693</td>\n",
              "    </tr>\n",
              "    <tr>\n",
              "      <th>9998</th>\n",
              "      <td>1.731531</td>\n",
              "      <td>0.985884</td>\n",
              "      <td>0.215476</td>\n",
              "      <td>0.231729</td>\n",
              "      <td>0.248192</td>\n",
              "    </tr>\n",
              "    <tr>\n",
              "      <th>9999</th>\n",
              "      <td>1.731878</td>\n",
              "      <td>0.762684</td>\n",
              "      <td>0.717663</td>\n",
              "      <td>1.429089</td>\n",
              "      <td>0.063846</td>\n",
              "    </tr>\n",
              "  </tbody>\n",
              "</table>\n",
              "<p>10000 rows × 5 columns</p>\n",
              "</div>"
            ],
            "text/plain": [
              "             0         1         2         3         4\n",
              "0    -1.731878 -0.789095  1.218736 -0.093447 -1.272057\n",
              "1    -1.731531  0.907397  0.390674 -0.521740  0.270482\n",
              "2    -1.731185  1.216347 -2.003941 -1.179447  2.896110\n",
              "3    -1.730838  2.173963  1.010412  0.711445  0.340102\n",
              "4    -1.730492  0.441074  0.062589 -1.097432 -0.407261\n",
              "...        ...       ...       ...       ...       ...\n",
              "9995  1.730492 -1.717688 -1.077354  0.057841 -0.616731\n",
              "9996  1.730838 -0.400617  0.460138  1.152422 -0.575968\n",
              "9997  1.731185 -1.227048 -1.694039  0.825106  0.468693\n",
              "9998  1.731531  0.985884  0.215476  0.231729  0.248192\n",
              "9999  1.731878  0.762684  0.717663  1.429089  0.063846\n",
              "\n",
              "[10000 rows x 5 columns]"
            ]
          },
          "metadata": {
            "tags": []
          },
          "execution_count": 11
        }
      ]
    },
    {
      "cell_type": "code",
      "metadata": {
        "id": "HLLTLtO1jE2U",
        "outputId": "cdecb4b2-7804-4984-cc60-3d7cad07eb12",
        "colab": {
          "base_uri": "https://localhost:8080/",
          "height": 136
        }
      },
      "source": [
        "from sklearn.preprocessing import RobustScaler\n",
        "robust=RobustScaler()\n",
        "scaled2_feature=robust.fit_transform(wire_data)\n",
        "scaled2_feature"
      ],
      "execution_count": null,
      "outputs": [
        {
          "output_type": "execute_result",
          "data": {
            "text/plain": [
              "array([[-1.        , -0.58883905,  0.90724316, -0.05933912, -0.9674633 ],\n",
              "       [-0.99979998,  0.6892072 ,  0.29112295, -0.37491677,  0.36713686],\n",
              "       [-0.99959996,  0.92195331, -1.49059213, -0.85953226,  2.63882176],\n",
              "       ...,\n",
              "       [ 0.99959996, -0.91876988, -1.26000951,  0.61747436,  0.5386284 ],\n",
              "       [ 0.99979998,  0.74833448,  0.16076655,  0.18025904,  0.34785149],\n",
              "       [ 1.        ,  0.58018763,  0.53441921,  1.06250545,  0.18835569]])"
            ]
          },
          "metadata": {
            "tags": []
          },
          "execution_count": 12
        }
      ]
    },
    {
      "cell_type": "code",
      "metadata": {
        "id": "mlnYK6lHjJb8",
        "outputId": "701d4b9f-65e4-4e12-ffd3-708ca711350c",
        "colab": {
          "base_uri": "https://localhost:8080/",
          "height": 419
        }
      },
      "source": [
        "wire3=pd.DataFrame(scaled2_feature)\n",
        "wire3"
      ],
      "execution_count": null,
      "outputs": [
        {
          "output_type": "execute_result",
          "data": {
            "text/html": [
              "<div>\n",
              "<style scoped>\n",
              "    .dataframe tbody tr th:only-of-type {\n",
              "        vertical-align: middle;\n",
              "    }\n",
              "\n",
              "    .dataframe tbody tr th {\n",
              "        vertical-align: top;\n",
              "    }\n",
              "\n",
              "    .dataframe thead th {\n",
              "        text-align: right;\n",
              "    }\n",
              "</style>\n",
              "<table border=\"1\" class=\"dataframe\">\n",
              "  <thead>\n",
              "    <tr style=\"text-align: right;\">\n",
              "      <th></th>\n",
              "      <th>0</th>\n",
              "      <th>1</th>\n",
              "      <th>2</th>\n",
              "      <th>3</th>\n",
              "      <th>4</th>\n",
              "    </tr>\n",
              "  </thead>\n",
              "  <tbody>\n",
              "    <tr>\n",
              "      <th>0</th>\n",
              "      <td>-1.0000</td>\n",
              "      <td>-0.588839</td>\n",
              "      <td>0.907243</td>\n",
              "      <td>-0.059339</td>\n",
              "      <td>-0.967463</td>\n",
              "    </tr>\n",
              "    <tr>\n",
              "      <th>1</th>\n",
              "      <td>-0.9998</td>\n",
              "      <td>0.689207</td>\n",
              "      <td>0.291123</td>\n",
              "      <td>-0.374917</td>\n",
              "      <td>0.367137</td>\n",
              "    </tr>\n",
              "    <tr>\n",
              "      <th>2</th>\n",
              "      <td>-0.9996</td>\n",
              "      <td>0.921953</td>\n",
              "      <td>-1.490592</td>\n",
              "      <td>-0.859532</td>\n",
              "      <td>2.638822</td>\n",
              "    </tr>\n",
              "    <tr>\n",
              "      <th>3</th>\n",
              "      <td>-0.9994</td>\n",
              "      <td>1.643370</td>\n",
              "      <td>0.752240</td>\n",
              "      <td>0.533726</td>\n",
              "      <td>0.427372</td>\n",
              "    </tr>\n",
              "    <tr>\n",
              "      <th>4</th>\n",
              "      <td>-0.9992</td>\n",
              "      <td>0.337904</td>\n",
              "      <td>0.047011</td>\n",
              "      <td>-0.799102</td>\n",
              "      <td>-0.219244</td>\n",
              "    </tr>\n",
              "    <tr>\n",
              "      <th>...</th>\n",
              "      <td>...</td>\n",
              "      <td>...</td>\n",
              "      <td>...</td>\n",
              "      <td>...</td>\n",
              "      <td>...</td>\n",
              "    </tr>\n",
              "    <tr>\n",
              "      <th>9995</th>\n",
              "      <td>0.9992</td>\n",
              "      <td>-1.288392</td>\n",
              "      <td>-0.801164</td>\n",
              "      <td>0.052134</td>\n",
              "      <td>-0.400477</td>\n",
              "    </tr>\n",
              "    <tr>\n",
              "      <th>9996</th>\n",
              "      <td>0.9994</td>\n",
              "      <td>-0.296181</td>\n",
              "      <td>0.342808</td>\n",
              "      <td>0.858649</td>\n",
              "      <td>-0.365210</td>\n",
              "    </tr>\n",
              "    <tr>\n",
              "      <th>9997</th>\n",
              "      <td>0.9996</td>\n",
              "      <td>-0.918770</td>\n",
              "      <td>-1.260010</td>\n",
              "      <td>0.617474</td>\n",
              "      <td>0.538628</td>\n",
              "    </tr>\n",
              "    <tr>\n",
              "      <th>9998</th>\n",
              "      <td>0.9998</td>\n",
              "      <td>0.748334</td>\n",
              "      <td>0.160767</td>\n",
              "      <td>0.180259</td>\n",
              "      <td>0.347851</td>\n",
              "    </tr>\n",
              "    <tr>\n",
              "      <th>9999</th>\n",
              "      <td>1.0000</td>\n",
              "      <td>0.580188</td>\n",
              "      <td>0.534419</td>\n",
              "      <td>1.062505</td>\n",
              "      <td>0.188356</td>\n",
              "    </tr>\n",
              "  </tbody>\n",
              "</table>\n",
              "<p>10000 rows × 5 columns</p>\n",
              "</div>"
            ],
            "text/plain": [
              "           0         1         2         3         4\n",
              "0    -1.0000 -0.588839  0.907243 -0.059339 -0.967463\n",
              "1    -0.9998  0.689207  0.291123 -0.374917  0.367137\n",
              "2    -0.9996  0.921953 -1.490592 -0.859532  2.638822\n",
              "3    -0.9994  1.643370  0.752240  0.533726  0.427372\n",
              "4    -0.9992  0.337904  0.047011 -0.799102 -0.219244\n",
              "...      ...       ...       ...       ...       ...\n",
              "9995  0.9992 -1.288392 -0.801164  0.052134 -0.400477\n",
              "9996  0.9994 -0.296181  0.342808  0.858649 -0.365210\n",
              "9997  0.9996 -0.918770 -1.260010  0.617474  0.538628\n",
              "9998  0.9998  0.748334  0.160767  0.180259  0.347851\n",
              "9999  1.0000  0.580188  0.534419  1.062505  0.188356\n",
              "\n",
              "[10000 rows x 5 columns]"
            ]
          },
          "metadata": {
            "tags": []
          },
          "execution_count": 13
        }
      ]
    },
    {
      "cell_type": "code",
      "metadata": {
        "id": "C-uXa5dajMmM",
        "outputId": "9abe450f-0e59-4b8a-a674-64cd250dd23b",
        "colab": {
          "base_uri": "https://localhost:8080/",
          "height": 238
        }
      },
      "source": [
        "from sklearn.preprocessing import Normalizer\n",
        "normalizer=Normalizer(norm=\"l2\")\n",
        "Scaled3_feature=normalizer.transform(wire_data)\n",
        "Scaled3_feature"
      ],
      "execution_count": null,
      "outputs": [
        {
          "output_type": "execute_result",
          "data": {
            "text/plain": [
              "array([[1.44032156e-02, 6.03046584e-08, 1.79005705e-09, 7.06738307e-01,\n",
              "        7.07328433e-01],\n",
              "       [1.97082874e-02, 5.79566875e-08, 1.06115095e-09, 4.30221415e-01,\n",
              "        9.02508237e-01],\n",
              "       [1.78905628e-02, 3.69145055e-08, 3.55980035e-10, 2.10824686e-01,\n",
              "        9.77360158e-01],\n",
              "       ...,\n",
              "       [9.99934488e-01, 3.74993673e-10, 6.59128394e-12, 6.06771714e-03,\n",
              "        9.70579541e-03],\n",
              "       [9.99944475e-01, 5.96011556e-10, 1.04179073e-11, 5.31772883e-03,\n",
              "        9.09769052e-03],\n",
              "       [9.99939792e-01, 5.73655871e-10, 1.14232385e-11, 6.82929521e-03,\n",
              "        8.58912604e-03]])"
            ]
          },
          "metadata": {
            "tags": []
          },
          "execution_count": 14
        }
      ]
    },
    {
      "cell_type": "code",
      "metadata": {
        "id": "N45PCvOKjT0l",
        "outputId": "c10fdcd9-2aeb-424b-c6bd-4b6b3979e1af",
        "colab": {
          "base_uri": "https://localhost:8080/",
          "height": 419
        }
      },
      "source": [
        "wire=pd.DataFrame(Scaled3_feature)\n",
        "wire"
      ],
      "execution_count": null,
      "outputs": [
        {
          "output_type": "execute_result",
          "data": {
            "text/html": [
              "<div>\n",
              "<style scoped>\n",
              "    .dataframe tbody tr th:only-of-type {\n",
              "        vertical-align: middle;\n",
              "    }\n",
              "\n",
              "    .dataframe tbody tr th {\n",
              "        vertical-align: top;\n",
              "    }\n",
              "\n",
              "    .dataframe thead th {\n",
              "        text-align: right;\n",
              "    }\n",
              "</style>\n",
              "<table border=\"1\" class=\"dataframe\">\n",
              "  <thead>\n",
              "    <tr style=\"text-align: right;\">\n",
              "      <th></th>\n",
              "      <th>0</th>\n",
              "      <th>1</th>\n",
              "      <th>2</th>\n",
              "      <th>3</th>\n",
              "      <th>4</th>\n",
              "    </tr>\n",
              "  </thead>\n",
              "  <tbody>\n",
              "    <tr>\n",
              "      <th>0</th>\n",
              "      <td>0.014403</td>\n",
              "      <td>6.030466e-08</td>\n",
              "      <td>1.790057e-09</td>\n",
              "      <td>0.706738</td>\n",
              "      <td>0.707328</td>\n",
              "    </tr>\n",
              "    <tr>\n",
              "      <th>1</th>\n",
              "      <td>0.019708</td>\n",
              "      <td>5.795669e-08</td>\n",
              "      <td>1.061151e-09</td>\n",
              "      <td>0.430221</td>\n",
              "      <td>0.902508</td>\n",
              "    </tr>\n",
              "    <tr>\n",
              "      <th>2</th>\n",
              "      <td>0.017891</td>\n",
              "      <td>3.691451e-08</td>\n",
              "      <td>3.559800e-10</td>\n",
              "      <td>0.210825</td>\n",
              "      <td>0.977360</td>\n",
              "    </tr>\n",
              "    <tr>\n",
              "      <th>3</th>\n",
              "      <td>0.036114</td>\n",
              "      <td>6.452364e-08</td>\n",
              "      <td>1.084394e-09</td>\n",
              "      <td>0.534796</td>\n",
              "      <td>0.844209</td>\n",
              "    </tr>\n",
              "    <tr>\n",
              "      <th>4</th>\n",
              "      <td>0.061236</td>\n",
              "      <td>6.632677e-08</td>\n",
              "      <td>1.238320e-09</td>\n",
              "      <td>0.445654</td>\n",
              "      <td>0.893108</td>\n",
              "    </tr>\n",
              "    <tr>\n",
              "      <th>...</th>\n",
              "      <td>...</td>\n",
              "      <td>...</td>\n",
              "      <td>...</td>\n",
              "      <td>...</td>\n",
              "      <td>...</td>\n",
              "    </tr>\n",
              "    <tr>\n",
              "      <th>9995</th>\n",
              "      <td>0.999964</td>\n",
              "      <td>3.260538e-10</td>\n",
              "      <td>7.829211e-12</td>\n",
              "      <td>0.005100</td>\n",
              "      <td>0.006718</td>\n",
              "    </tr>\n",
              "    <tr>\n",
              "      <th>9996</th>\n",
              "      <td>0.999956</td>\n",
              "      <td>4.576095e-10</td>\n",
              "      <td>1.091059e-11</td>\n",
              "      <td>0.006482</td>\n",
              "      <td>0.006830</td>\n",
              "    </tr>\n",
              "    <tr>\n",
              "      <th>9997</th>\n",
              "      <td>0.999934</td>\n",
              "      <td>3.749937e-10</td>\n",
              "      <td>6.591284e-12</td>\n",
              "      <td>0.006068</td>\n",
              "      <td>0.009706</td>\n",
              "    </tr>\n",
              "    <tr>\n",
              "      <th>9998</th>\n",
              "      <td>0.999944</td>\n",
              "      <td>5.960116e-10</td>\n",
              "      <td>1.041791e-11</td>\n",
              "      <td>0.005318</td>\n",
              "      <td>0.009098</td>\n",
              "    </tr>\n",
              "    <tr>\n",
              "      <th>9999</th>\n",
              "      <td>0.999940</td>\n",
              "      <td>5.736559e-10</td>\n",
              "      <td>1.142324e-11</td>\n",
              "      <td>0.006829</td>\n",
              "      <td>0.008589</td>\n",
              "    </tr>\n",
              "  </tbody>\n",
              "</table>\n",
              "<p>10000 rows × 5 columns</p>\n",
              "</div>"
            ],
            "text/plain": [
              "             0             1             2         3         4\n",
              "0     0.014403  6.030466e-08  1.790057e-09  0.706738  0.707328\n",
              "1     0.019708  5.795669e-08  1.061151e-09  0.430221  0.902508\n",
              "2     0.017891  3.691451e-08  3.559800e-10  0.210825  0.977360\n",
              "3     0.036114  6.452364e-08  1.084394e-09  0.534796  0.844209\n",
              "4     0.061236  6.632677e-08  1.238320e-09  0.445654  0.893108\n",
              "...        ...           ...           ...       ...       ...\n",
              "9995  0.999964  3.260538e-10  7.829211e-12  0.005100  0.006718\n",
              "9996  0.999956  4.576095e-10  1.091059e-11  0.006482  0.006830\n",
              "9997  0.999934  3.749937e-10  6.591284e-12  0.006068  0.009706\n",
              "9998  0.999944  5.960116e-10  1.041791e-11  0.005318  0.009098\n",
              "9999  0.999940  5.736559e-10  1.142324e-11  0.006829  0.008589\n",
              "\n",
              "[10000 rows x 5 columns]"
            ]
          },
          "metadata": {
            "tags": []
          },
          "execution_count": 15
        }
      ]
    },
    {
      "cell_type": "code",
      "metadata": {
        "id": "50GLHNoJjYeo"
      },
      "source": [
        "wire1.rename(columns={1: \"Length\", 2: \"Width\",3:\"Temperature\",4:\"Resistance\"},inplace=True)"
      ],
      "execution_count": null,
      "outputs": []
    },
    {
      "cell_type": "code",
      "metadata": {
        "id": "to_d55SBjdJy",
        "outputId": "9c63dadd-ca12-4b8b-c300-e85161c4536d",
        "colab": {
          "base_uri": "https://localhost:8080/",
          "height": 419
        }
      },
      "source": [
        "del wire1[0]\n",
        "wire1"
      ],
      "execution_count": null,
      "outputs": [
        {
          "output_type": "execute_result",
          "data": {
            "text/html": [
              "<div>\n",
              "<style scoped>\n",
              "    .dataframe tbody tr th:only-of-type {\n",
              "        vertical-align: middle;\n",
              "    }\n",
              "\n",
              "    .dataframe tbody tr th {\n",
              "        vertical-align: top;\n",
              "    }\n",
              "\n",
              "    .dataframe thead th {\n",
              "        text-align: right;\n",
              "    }\n",
              "</style>\n",
              "<table border=\"1\" class=\"dataframe\">\n",
              "  <thead>\n",
              "    <tr style=\"text-align: right;\">\n",
              "      <th></th>\n",
              "      <th>Length</th>\n",
              "      <th>Width</th>\n",
              "      <th>Temperature</th>\n",
              "      <th>Resistance</th>\n",
              "    </tr>\n",
              "  </thead>\n",
              "  <tbody>\n",
              "    <tr>\n",
              "      <th>0</th>\n",
              "      <td>37.447164</td>\n",
              "      <td>66.076488</td>\n",
              "      <td>45.314355</td>\n",
              "      <td>5.700423</td>\n",
              "    </tr>\n",
              "    <tr>\n",
              "      <th>1</th>\n",
              "      <td>60.236657</td>\n",
              "      <td>55.560692</td>\n",
              "      <td>39.674644</td>\n",
              "      <td>14.863181</td>\n",
              "    </tr>\n",
              "    <tr>\n",
              "      <th>2</th>\n",
              "      <td>64.386871</td>\n",
              "      <td>25.150796</td>\n",
              "      <td>31.014045</td>\n",
              "      <td>30.459537</td>\n",
              "    </tr>\n",
              "    <tr>\n",
              "      <th>3</th>\n",
              "      <td>77.250820</td>\n",
              "      <td>63.430928</td>\n",
              "      <td>55.913064</td>\n",
              "      <td>15.276728</td>\n",
              "    </tr>\n",
              "    <tr>\n",
              "      <th>4</th>\n",
              "      <td>53.972389</td>\n",
              "      <td>51.394242</td>\n",
              "      <td>32.094002</td>\n",
              "      <td>10.837354</td>\n",
              "    </tr>\n",
              "    <tr>\n",
              "      <th>...</th>\n",
              "      <td>...</td>\n",
              "      <td>...</td>\n",
              "      <td>...</td>\n",
              "      <td>...</td>\n",
              "    </tr>\n",
              "    <tr>\n",
              "      <th>9995</th>\n",
              "      <td>24.973082</td>\n",
              "      <td>36.917789</td>\n",
              "      <td>47.306492</td>\n",
              "      <td>9.593094</td>\n",
              "    </tr>\n",
              "    <tr>\n",
              "      <th>9996</th>\n",
              "      <td>42.665700</td>\n",
              "      <td>56.442842</td>\n",
              "      <td>61.719796</td>\n",
              "      <td>9.835224</td>\n",
              "    </tr>\n",
              "    <tr>\n",
              "      <th>9997</th>\n",
              "      <td>31.564000</td>\n",
              "      <td>29.086326</td>\n",
              "      <td>57.409738</td>\n",
              "      <td>16.040564</td>\n",
              "    </tr>\n",
              "    <tr>\n",
              "      <th>9998</th>\n",
              "      <td>61.290985</td>\n",
              "      <td>53.335799</td>\n",
              "      <td>49.596231</td>\n",
              "      <td>14.730777</td>\n",
              "    </tr>\n",
              "    <tr>\n",
              "      <th>9999</th>\n",
              "      <td>58.292674</td>\n",
              "      <td>59.713216</td>\n",
              "      <td>65.362921</td>\n",
              "      <td>13.635751</td>\n",
              "    </tr>\n",
              "  </tbody>\n",
              "</table>\n",
              "<p>10000 rows × 4 columns</p>\n",
              "</div>"
            ],
            "text/plain": [
              "         Length      Width  Temperature  Resistance\n",
              "0     37.447164  66.076488    45.314355    5.700423\n",
              "1     60.236657  55.560692    39.674644   14.863181\n",
              "2     64.386871  25.150796    31.014045   30.459537\n",
              "3     77.250820  63.430928    55.913064   15.276728\n",
              "4     53.972389  51.394242    32.094002   10.837354\n",
              "...         ...        ...          ...         ...\n",
              "9995  24.973082  36.917789    47.306492    9.593094\n",
              "9996  42.665700  56.442842    61.719796    9.835224\n",
              "9997  31.564000  29.086326    57.409738   16.040564\n",
              "9998  61.290985  53.335799    49.596231   14.730777\n",
              "9999  58.292674  59.713216    65.362921   13.635751\n",
              "\n",
              "[10000 rows x 4 columns]"
            ]
          },
          "metadata": {
            "tags": []
          },
          "execution_count": 17
        }
      ]
    },
    {
      "cell_type": "code",
      "metadata": {
        "id": "eeQIKC3xjgPy",
        "outputId": "ce752941-71af-4f22-b9ee-634833b2d5a8",
        "colab": {
          "base_uri": "https://localhost:8080/",
          "height": 297
        }
      },
      "source": [
        "wire1.describe()"
      ],
      "execution_count": null,
      "outputs": [
        {
          "output_type": "execute_result",
          "data": {
            "text/html": [
              "<div>\n",
              "<style scoped>\n",
              "    .dataframe tbody tr th:only-of-type {\n",
              "        vertical-align: middle;\n",
              "    }\n",
              "\n",
              "    .dataframe tbody tr th {\n",
              "        vertical-align: top;\n",
              "    }\n",
              "\n",
              "    .dataframe thead th {\n",
              "        text-align: right;\n",
              "    }\n",
              "</style>\n",
              "<table border=\"1\" class=\"dataframe\">\n",
              "  <thead>\n",
              "    <tr style=\"text-align: right;\">\n",
              "      <th></th>\n",
              "      <th>Length</th>\n",
              "      <th>Width</th>\n",
              "      <th>Temperature</th>\n",
              "      <th>Resistance</th>\n",
              "    </tr>\n",
              "  </thead>\n",
              "  <tbody>\n",
              "    <tr>\n",
              "      <th>count</th>\n",
              "      <td>10000.000000</td>\n",
              "      <td>10000.000000</td>\n",
              "      <td>10000.000000</td>\n",
              "      <td>10000.000000</td>\n",
              "    </tr>\n",
              "    <tr>\n",
              "      <th>mean</th>\n",
              "      <td>48.047312</td>\n",
              "      <td>50.599413</td>\n",
              "      <td>46.544852</td>\n",
              "      <td>13.256504</td>\n",
              "    </tr>\n",
              "    <tr>\n",
              "      <th>std</th>\n",
              "      <td>13.433976</td>\n",
              "      <td>12.699922</td>\n",
              "      <td>13.168533</td>\n",
              "      <td>5.940345</td>\n",
              "    </tr>\n",
              "    <tr>\n",
              "      <th>min</th>\n",
              "      <td>0.000000</td>\n",
              "      <td>0.000000</td>\n",
              "      <td>0.000000</td>\n",
              "      <td>0.000000</td>\n",
              "    </tr>\n",
              "    <tr>\n",
              "      <th>25%</th>\n",
              "      <td>39.068751</td>\n",
              "      <td>42.140573</td>\n",
              "      <td>37.525180</td>\n",
              "      <td>9.302295</td>\n",
              "    </tr>\n",
              "    <tr>\n",
              "      <th>50%</th>\n",
              "      <td>47.947053</td>\n",
              "      <td>50.591874</td>\n",
              "      <td>46.374809</td>\n",
              "      <td>12.342587</td>\n",
              "    </tr>\n",
              "    <tr>\n",
              "      <th>75%</th>\n",
              "      <td>56.900260</td>\n",
              "      <td>59.208339</td>\n",
              "      <td>55.396253</td>\n",
              "      <td>16.167840</td>\n",
              "    </tr>\n",
              "    <tr>\n",
              "      <th>max</th>\n",
              "      <td>100.000000</td>\n",
              "      <td>100.000000</td>\n",
              "      <td>100.000000</td>\n",
              "      <td>100.000000</td>\n",
              "    </tr>\n",
              "  </tbody>\n",
              "</table>\n",
              "</div>"
            ],
            "text/plain": [
              "             Length         Width   Temperature    Resistance\n",
              "count  10000.000000  10000.000000  10000.000000  10000.000000\n",
              "mean      48.047312     50.599413     46.544852     13.256504\n",
              "std       13.433976     12.699922     13.168533      5.940345\n",
              "min        0.000000      0.000000      0.000000      0.000000\n",
              "25%       39.068751     42.140573     37.525180      9.302295\n",
              "50%       47.947053     50.591874     46.374809     12.342587\n",
              "75%       56.900260     59.208339     55.396253     16.167840\n",
              "max      100.000000    100.000000    100.000000    100.000000"
            ]
          },
          "metadata": {
            "tags": []
          },
          "execution_count": 18
        }
      ]
    },
    {
      "cell_type": "code",
      "metadata": {
        "id": "SC6OLjBejkjK",
        "outputId": "59f51c25-f064-4624-e9de-9af3b5c00387",
        "colab": {
          "base_uri": "https://localhost:8080/",
          "height": 421
        }
      },
      "source": [
        "import matplotlib.pyplot as plt\n",
        "wire1.hist(bins=50,figsize=(10,5))"
      ],
      "execution_count": null,
      "outputs": [
        {
          "output_type": "execute_result",
          "data": {
            "text/plain": [
              "array([[<matplotlib.axes._subplots.AxesSubplot object at 0x7f471c536358>,\n",
              "        <matplotlib.axes._subplots.AxesSubplot object at 0x7f471c510630>],\n",
              "       [<matplotlib.axes._subplots.AxesSubplot object at 0x7f471c4c6898>,\n",
              "        <matplotlib.axes._subplots.AxesSubplot object at 0x7f471c478b00>]],\n",
              "      dtype=object)"
            ]
          },
          "metadata": {
            "tags": []
          },
          "execution_count": 19
        },
        {
          "output_type": "display_data",
          "data": {
            "image/png": "[encoded data removed]",
            "text/plain": [
              "<Figure size 720x360 with 4 Axes>"
            ]
          },
          "metadata": {
            "tags": [],
            "needs_background": "light"
          }
        }
      ]
    },
    {
      "cell_type": "code",
      "metadata": {
        "id": "rD0IlTqPjo4G",
        "outputId": "0bfd959c-0f3e-4a06-8358-8e92f63efed6",
        "colab": {
          "base_uri": "https://localhost:8080/",
          "height": 279
        }
      },
      "source": [
        "plt.scatter(wire1['Length'],wire1['Resistance'])\n",
        "plt.xlabel(\"Length\") \n",
        "plt.ylabel(\"Resistance\") \n",
        "plt.show() "
      ],
      "execution_count": null,
      "outputs": [
        {
          "output_type": "display_data",
          "data": {
            "image/png": "[encoded data removed]",
            "text/plain": [
              "<Figure size 432x288 with 1 Axes>"
            ]
          },
          "metadata": {
            "tags": [],
            "needs_background": "light"
          }
        }
      ]
    },
    {
      "cell_type": "code",
      "metadata": {
        "id": "2VHEfGTBjwVe",
        "outputId": "8363b9c2-de84-4697-e982-bd4c38f33926",
        "colab": {
          "base_uri": "https://localhost:8080/",
          "height": 279
        }
      },
      "source": [
        "plt.scatter(wire1['Length'],wire1['Temperature'])\n",
        "plt.xlabel(\"Length\") \n",
        "plt.ylabel(\"Temperature\") \n",
        "plt.show() "
      ],
      "execution_count": null,
      "outputs": [
        {
          "output_type": "display_data",
          "data": {
            "image/png": "[encoded data removed]",
            "text/plain": [
              "<Figure size 432x288 with 1 Axes>"
            ]
          },
          "metadata": {
            "tags": [],
            "needs_background": "light"
          }
        }
      ]
    },
    {
      "cell_type": "code",
      "metadata": {
        "id": "M7ptdma8jyfd",
        "outputId": "6e129fc2-6e78-4651-ff95-28e8a931db94",
        "colab": {
          "base_uri": "https://localhost:8080/",
          "height": 279
        }
      },
      "source": [
        "plt.scatter(wire1['Length'],wire1['Width'])\n",
        "plt.xlabel(\"Length\") \n",
        "plt.ylabel(\"Width\") \n",
        "plt.show() "
      ],
      "execution_count": null,
      "outputs": [
        {
          "output_type": "display_data",
          "data": {
            "image/png": "[encoded data removed]",
            "text/plain": [
              "<Figure size 432x288 with 1 Axes>"
            ]
          },
          "metadata": {
            "tags": [],
            "needs_background": "light"
          }
        }
      ]
    },
    {
      "cell_type": "code",
      "metadata": {
        "id": "jF8Q3oGqj5oG",
        "outputId": "9cca52a5-f88d-4615-893a-154c0ce708a9",
        "colab": {
          "base_uri": "https://localhost:8080/",
          "height": 51
        }
      },
      "source": [
        "train_data=wire1.sample(frac=0.8)\n",
        "\n",
        "test_data=wire1.drop(train_data.index)\n",
        "\n",
        "print(train_data.shape)\n",
        "print(test_data.shape)\n",
        "train_label=train_data.pop('Length')\n",
        "\n",
        "test_label=test_data.pop('Length')"
      ],
      "execution_count": null,
      "outputs": [
        {
          "output_type": "stream",
          "text": [
            "(8000, 4)\n",
            "(2000, 4)\n"
          ],
          "name": "stdout"
        }
      ]
    },
    {
      "cell_type": "code",
      "metadata": {
        "id": "6XDsnafSj9cU"
      },
      "source": [
        "mf=[[['gaussmf',{\"mean\":np.mean(np.arange(0,20)),\n",
        "                \"sigma\":np.std(np.arange(0,20))}],\n",
        "    ['gaussmf',{\"mean\":np.mean(np.arange(20,40)),\n",
        "                \"sigma\":np.std(np.arange(20,40))}],\n",
        "     ['gaussmf',{\"mean\":np.mean(np.arange(40,60)),\n",
        "                \"sigma\":np.std(np.arange(40,60))}],\n",
        "    ['gaussmf',{\"mean\":np.mean(np.arange(60,80)),\n",
        "                \"sigma\":np.std(np.arange(60,80))}],\n",
        "     ['gaussmf',{'mean':np.mean(np.arange(80,100)),\n",
        "               'sigma':np.std(np.arange(80,100))}]],\n",
        "   [['gaussmf',{\"mean\":np.mean(np.arange(0,20)),\n",
        "                \"sigma\":np.std(np.arange(0,20))}],\n",
        "    ['gaussmf',{\"mean\":np.mean(np.arange(20,40)),\n",
        "                \"sigma\":np.std(np.arange(20,40))}],\n",
        "    ['gaussmf',{\"mean\":np.mean(np.arange(40,60)),\n",
        "                \"sigma\":np.std(np.arange(40,60))}],\n",
        "    ['gaussmf',{\"mean\":np.mean(np.arange(60,80)),\n",
        "                \"sigma\":np.std(np.arange(60,80))}],\n",
        "    ['gaussmf',{\"mean\":np.mean(np.arange(80,100)),\n",
        "                \"sigma\":np.std(np.arange(80,100))}]],\n",
        "   [['gaussmf',{\"mean\":np.mean(np.arange(0,20)),\n",
        "                \"sigma\":np.std(np.arange(0,20))}],\n",
        "    ['gaussmf',{\"mean\":np.mean(np.arange(20,40)),\n",
        "                \"sigma\":np.std(np.arange(20,40))}],\n",
        "     ['gaussmf',{\"mean\":np.mean(np.arange(40,60)),\n",
        "                \"sigma\":np.std(np.arange(40,60))}],\n",
        "    ['gaussmf',{\"mean\":np.mean(np.arange(60,80)),\n",
        "                \"sigma\":np.std(np.arange(60,80))}],\n",
        "     ['gaussmf',{'mean':np.mean(np.arange(80,100)),\n",
        "               'sigma':np.std(np.arange(80,100))}]]]"
      ],
      "execution_count": null,
      "outputs": []
    },
    {
      "cell_type": "code",
      "metadata": {
        "id": "tVnL9QTlkGcV",
        "outputId": "3ae847e0-ec1f-4302-e112-364386502f38",
        "colab": {
          "base_uri": "https://localhost:8080/",
          "height": 275
        }
      },
      "source": [
        "pip install -U scikit-fuzzy\n"
      ],
      "execution_count": null,
      "outputs": [
        {
          "output_type": "stream",
          "text": [
            "Collecting scikit-fuzzy\n",
            "\u001b[?25l  Downloading https://files.pythonhosted.org/packages/6c/f0/5eb5dbe0fd8dfe7d4651a8f4e591a196623a22b9e5339101e559695b4f6c/scikit-fuzzy-0.4.2.tar.gz (993kB)\n",
            "\u001b[K     |████████████████████████████████| 1.0MB 4.7MB/s \n",
            "\u001b[?25hRequirement already satisfied, skipping upgrade: numpy>=1.6.0 in /usr/local/lib/python3.6/dist-packages (from scikit-fuzzy) (1.18.5)\n",
            "Requirement already satisfied, skipping upgrade: scipy>=0.9.0 in /usr/local/lib/python3.6/dist-packages (from scikit-fuzzy) (1.4.1)\n",
            "Requirement already satisfied, skipping upgrade: networkx>=1.9.0 in /usr/local/lib/python3.6/dist-packages (from scikit-fuzzy) (2.5)\n",
            "Requirement already satisfied, skipping upgrade: decorator>=4.3.0 in /usr/local/lib/python3.6/dist-packages (from networkx>=1.9.0->scikit-fuzzy) (4.4.2)\n",
            "Building wheels for collected packages: scikit-fuzzy\n",
            "  Building wheel for scikit-fuzzy (setup.py) ... \u001b[?25l\u001b[?25hdone\n",
            "  Created wheel for scikit-fuzzy: filename=scikit_fuzzy-0.4.2-cp36-none-any.whl size=894070 sha256=ebbef918fc73a3aa50bea3b17863658a6c235b889bfd8811b5cb68f685617854\n",
            "  Stored in directory: /root/.cache/pip/wheels/b9/4e/77/da79b16f64ef1738d95486e2731eea09d73e90a72465096600\n",
            "Successfully built scikit-fuzzy\n",
            "Installing collected packages: scikit-fuzzy\n",
            "Successfully installed scikit-fuzzy-0.4.2\n"
          ],
          "name": "stdout"
        }
      ]
    },
    {
      "cell_type": "code",
      "metadata": {
        "id": "drYiHJFFkzop"
      },
      "source": [
        "import membershipfunction\n",
        "mfc = membershipfunction.MemFuncs(mf)"
      ],
      "execution_count": null,
      "outputs": []
    },
    {
      "cell_type": "code",
      "metadata": {
        "id": "Iuz0Lmx1rlXx",
        "outputId": "a739c1e7-6d86-4d41-f849-3c3d8dcd1a57",
        "colab": {
          "base_uri": "https://localhost:8080/",
          "height": 68
        }
      },
      "source": [
        "import anfis\n",
        "anf = anfis.ANFIS(train_data,train_label, mfc)\n",
        "\n",
        "pred_train=anf.trainHybridJangOffLine(epochs=4)"
      ],
      "execution_count": null,
      "outputs": [
        {
          "output_type": "stream",
          "text": [
            "current error:  113153.06141708468\n",
            "current error:  113153.40139794146\n",
            "current error:  113153.73708505624\n"
          ],
          "name": "stdout"
        }
      ]
    },
    {
      "cell_type": "code",
      "metadata": {
        "id": "2iJ1b8W3-6cT",
        "outputId": "5d03e435-3727-4394-c3ad-bec4d72c511a",
        "colab": {
          "base_uri": "https://localhost:8080/",
          "height": 34
        }
      },
      "source": [
        "train_label\n",
        "print(len(train_label))\n"
      ],
      "execution_count": null,
      "outputs": [
        {
          "output_type": "stream",
          "text": [
            "8000\n"
          ],
          "name": "stdout"
        }
      ]
    },
    {
      "cell_type": "code",
      "metadata": {
        "id": "-H5ICk91ABOY"
      },
      "source": [
        "train_label=train_label.to_numpy()\n",
        "test_label=test_label.to_numpy()\n"
      ],
      "execution_count": null,
      "outputs": []
    },
    {
      "cell_type": "code",
      "metadata": {
        "id": "0L59ljMYDSfZ"
      },
      "source": [
        "train_label=train_label.reshape(1,8000)\n",
        "test_label=test_label.reshape(1,2000)"
      ],
      "execution_count": null,
      "outputs": []
    },
    {
      "cell_type": "code",
      "metadata": {
        "id": "uF7jg76cCWQB",
        "outputId": "22988492-46f2-42a7-a014-b516b48fafab",
        "colab": {
          "base_uri": "https://localhost:8080/",
          "height": 34
        }
      },
      "source": [
        "error=np.mean((pred_train-train_label)**2)\n",
        "print(error)"
      ],
      "execution_count": null,
      "outputs": [
        {
          "output_type": "stream",
          "text": [
            "343.3505916127927\n"
          ],
          "name": "stdout"
        }
      ]
    },
    {
      "cell_type": "code",
      "metadata": {
        "id": "LPqp5nNHDqly",
        "outputId": "356e415f-b497-41db-caba-e6169bdc0e23",
        "colab": {
          "base_uri": "https://localhost:8080/",
          "height": 538
        }
      },
      "source": [
        "anf.plotErrors()\n",
        "anf.plotResults()"
      ],
      "execution_count": null,
      "outputs": [
        {
          "output_type": "display_data",
          "data": {
            "image/png": "[encoded data removed]",
            "text/plain": [
              "<Figure size 432x288 with 1 Axes>"
            ]
          },
          "metadata": {
            "tags": [],
            "needs_background": "light"
          }
        },
        {
          "output_type": "display_data",
          "data": {
            "image/png": "[encoded data removed]",
            "text/plain": [
              "<Figure size 432x288 with 1 Axes>"
            ]
          },
          "metadata": {
            "tags": [],
            "needs_background": "light"
          }
        }
      ]
    },
    {
      "cell_type": "code",
      "metadata": {
        "id": "D0029Xt9EQ5W"
      },
      "source": [
        "y_pred=anfis.predict(anf,test_data.values)"
      ],
      "execution_count": null,
      "outputs": []
    },
    {
      "cell_type": "code",
      "metadata": {
        "id": "VlXnaHosQc21",
        "outputId": "c9a0950a-f617-4466-bf59-c99809293166",
        "colab": {
          "base_uri": "https://localhost:8080/",
          "height": 136
        }
      },
      "source": [
        "print(y_pred)"
      ],
      "execution_count": null,
      "outputs": [
        {
          "output_type": "stream",
          "text": [
            "[[53.4652218 ]\n",
            " [70.84024934]\n",
            " [64.69572906]\n",
            " ...\n",
            " [42.34140011]\n",
            " [73.57431233]\n",
            " [29.87023928]]\n"
          ],
          "name": "stdout"
        }
      ]
    },
    {
      "cell_type": "code",
      "metadata": {
        "id": "Hp5ii8xhSl5G",
        "outputId": "d7d24b3e-e285-4e9e-a238-7bd2ba9d6eeb",
        "colab": {
          "base_uri": "https://localhost:8080/",
          "height": 68
        }
      },
      "source": [
        "print(test_label.shape)\n",
        "test_label"
      ],
      "execution_count": null,
      "outputs": [
        {
          "output_type": "stream",
          "text": [
            "(1, 2000)\n"
          ],
          "name": "stdout"
        },
        {
          "output_type": "execute_result",
          "data": {
            "text/plain": [
              "array([[58.10601885, 73.00555751, 63.0540354 , ..., 40.38913   ,\n",
              "        76.28100973, 26.7498486 ]])"
            ]
          },
          "metadata": {
            "tags": []
          },
          "execution_count": 53
        }
      ]
    },
    {
      "cell_type": "code",
      "metadata": {
        "id": "rBU5JRHHQjEP",
        "outputId": "e7113bb7-e71c-4b33-ddb2-cf268c1c828e",
        "colab": {
          "base_uri": "https://localhost:8080/",
          "height": 34
        }
      },
      "source": [
        "from sklearn.metrics import  mean_squared_error\n",
        "error=mean_squared_error(test_label.reshape(2000,1),y_pred)\n",
        "print(error)"
      ],
      "execution_count": null,
      "outputs": [
        {
          "output_type": "stream",
          "text": [
            "176.13033508502596\n"
          ],
          "name": "stdout"
        }
      ]
    }
  ]
}